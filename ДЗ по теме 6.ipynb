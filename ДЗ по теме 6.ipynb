{
 "cells": [
  {
   "cell_type": "code",
   "execution_count": 104,
   "metadata": {},
   "outputs": [
    {
     "name": "stdout",
     "output_type": "stream",
     "text": [
      "Баланс пользователя: Тест равен 500\n",
      "Баланс пользователя: Тест равен 2500\n",
      "Баланс пользователя: Тест равен 0\n",
      "Операция №1 => дата операции: 2024-12-28, информация об операции: +2000\n",
      "Операция №2 => дата операции: 2024-12-28, информация об операции: -2500\n"
     ]
    }
   ],
   "source": [
    "s_acc = Account(\"Тест\", 500)\n",
    "\n",
    "s_acc.show_balance()\n",
    "s_acc.debet(2000)\n",
    "s_acc.show_balance()\n",
    "s_acc.credit(2500)\n",
    "s_acc.show_balance()\n",
    "\n",
    "s_acc.show_history()"
   ]
  },
  {
   "cell_type": "code",
   "execution_count": 102,
   "metadata": {},
   "outputs": [],
   "source": [
    "from datetime import datetime\n",
    " \n",
    "class Account:\n",
    "\n",
    "    def __init__(self, name, balance):\n",
    "        self.__name = name\n",
    "        self.__balance = balance\n",
    "        self._history = {}\n",
    "        self.__operations_count = 0\n",
    "\n",
    "    def debet(self, amount):\n",
    "        self.__balance += amount\n",
    "        self.__operations_count += 1\n",
    "        self._history[self.__operations_count] = {\"date\": datetime.now().strftime('%Y-%m-%d') , \"info\": f\"+{amount}\"}\n",
    "\n",
    "    def credit(self, amount):\n",
    "        if self.__balance >= amount:\n",
    "            self.__balance -= amount\n",
    "            self.__operations_count += 1\n",
    "            self._history[self.__operations_count] = {\"date\": datetime.now().strftime('%Y-%m-%d') , \"info\": f\"-{amount}\"}\n",
    "        else:\n",
    "            print(\"На балансе недостаточно средств\")\n",
    "\n",
    "    def show_balance(self):\n",
    "        print(f\"Баланс пользователя: {self.__name} равен {self.__balance}\")\n",
    "\n",
    "    def show_history(self):\n",
    "        for operation_number, operation_date_and_info in self._history.items():\n",
    "            print(f\"Операция №{operation_number} => дата операции: {operation_date_and_info[\"date\"]}, информация об операции: {operation_date_and_info[\"info\"]}\")\n"
   ]
  }
 ],
 "metadata": {
  "kernelspec": {
   "display_name": "base",
   "language": "python",
   "name": "python3"
  },
  "language_info": {
   "codemirror_mode": {
    "name": "ipython",
    "version": 3
   },
   "file_extension": ".py",
   "mimetype": "text/x-python",
   "name": "python",
   "nbconvert_exporter": "python",
   "pygments_lexer": "ipython3",
   "version": "3.12.7"
  }
 },
 "nbformat": 4,
 "nbformat_minor": 2
}
