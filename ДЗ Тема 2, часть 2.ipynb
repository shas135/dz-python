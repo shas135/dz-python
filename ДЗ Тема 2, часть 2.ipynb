{
 "cells": [
  {
   "cell_type": "markdown",
   "id": "3db8d944-0894-46d7-b764-8d2eade2ba5c",
   "metadata": {},
   "source": [
    "                                ДЗ Тема 2, часть 2"
   ]
  },
  {
   "cell_type": "markdown",
   "id": "015b4989-b4e3-4865-a156-1850c44fd3d9",
   "metadata": {},
   "source": [
    "        Задание 1 "
   ]
  },
  {
   "cell_type": "code",
   "execution_count": 143,
   "id": "db12e504-8e61-47e9-bf0f-9751600f9f65",
   "metadata": {},
   "outputs": [],
   "source": [
    "ids = {\n",
    "    'user1': [213, 213, 213, 15, 213],\n",
    "    'user2': [54, 54, 119, 119, 119],\n",
    "    'user3': [213, 98, 98, 35]\n",
    "}\n",
    "#Результат: {98, 35, 15, 213, 54, 119}"
   ]
  },
  {
   "cell_type": "code",
   "execution_count": 144,
   "id": "e0a2a23f-3e59-469c-baf9-c77b3506c54f",
   "metadata": {},
   "outputs": [
    {
     "name": "stdout",
     "output_type": "stream",
     "text": [
      "Результат: {98, 35, 213, 54, 119, 15}\n"
     ]
    }
   ],
   "source": [
    "unique_ids = set()\n",
    "\n",
    "for user in ids.values():\n",
    "    unique_for_user = set(user)\n",
    "    unique_ids.update(unique_for_user)\n",
    "print(f\"Результат: {unique_ids}\")"
   ]
  },
  {
   "cell_type": "markdown",
   "id": "d89a8814-f411-40cf-9101-624bbd2c21e7",
   "metadata": {},
   "source": [
    "    Задание 2"
   ]
  },
  {
   "cell_type": "code",
   "execution_count": 141,
   "id": "4d87391c-40c4-4b4e-a3e0-12550d18f4fc",
   "metadata": {},
   "outputs": [],
   "source": [
    "queries = [\n",
    "'смотреть сериалы онлайн',\n",
    "'новости спорта',\n",
    "'афиша кино',\n",
    "'курс доллара',\n",
    "'сериалы этим летом',\n",
    "'курс по питону',\n",
    "'сериалы про спорт',\n",
    "]\n",
    "\n",
    "#Результат:\n",
    "#Поисковых запросов, содержащих 2 слов(а): 42.86%\n",
    "#Поисковых запросов, содержащих 3 слов(а): 57.14%"
   ]
  },
  {
   "cell_type": "code",
   "execution_count": 142,
   "id": "2f63cd86-415c-4cb0-8a48-018c3a128099",
   "metadata": {},
   "outputs": [
    {
     "name": "stdout",
     "output_type": "stream",
     "text": [
      "Результат:\n",
      "Поисковых запросов, содержащих 2 слов(а): 42.86%\n",
      "Поисковых запросов, содержащих 3 слов(а): 57.14%\n"
     ]
    }
   ],
   "source": [
    "count_query_len = {}\n",
    "\n",
    "print(\"Результат:\")\n",
    "for query in queries:\n",
    "    query_len = len(query.split(' '))\n",
    "    count_query_len.setdefault(query_len, 0)\n",
    "    count_query_len[query_len] += 1\n",
    "\n",
    "for key, value in sorted(count_query_len.items()):\n",
    "    print(f\"Поисковых запросов, содержащих {key} слов(а): {round(value/len(queries)*100,2)}%\")"
   ]
  }
 ],
 "metadata": {
  "kernelspec": {
   "display_name": "Python 3 (ipykernel)",
   "language": "python",
   "name": "python3"
  },
  "language_info": {
   "codemirror_mode": {
    "name": "ipython",
    "version": 3
   },
   "file_extension": ".py",
   "mimetype": "text/x-python",
   "name": "python",
   "nbconvert_exporter": "python",
   "pygments_lexer": "ipython3",
   "version": "3.12.7"
  }
 },
 "nbformat": 4,
 "nbformat_minor": 5
}
