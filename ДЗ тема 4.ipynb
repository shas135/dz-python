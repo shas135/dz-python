{
 "cells": [
  {
   "cell_type": "markdown",
   "id": "5822ecf2-43f2-47f6-b7df-6cc0887a8f70",
   "metadata": {},
   "source": [
    "        Домашнее задание по теме 4"
   ]
  },
  {
   "cell_type": "markdown",
   "id": "63ee0f2a-fc4a-4aee-b84b-329228ac34e0",
   "metadata": {},
   "source": [
    "    Задание №1"
   ]
  },
  {
   "cell_type": "code",
   "execution_count": 63,
   "id": "395fe180-4814-45c4-80de-1397da391a4d",
   "metadata": {},
   "outputs": [
    {
     "name": "stdout",
     "output_type": "stream",
     "text": [
      "1840e0b9d4 'Продукты'\n",
      "4e4f90fcfb 'Электроника'\n"
     ]
    }
   ],
   "source": [
    "import json\n",
    "\n",
    "purchases = {}\n",
    "\n",
    "with open(file = \"purchase_log.txt\", mode = \"r\", encoding = \"utf-8\") as file:\n",
    "    file_data = file.read()\n",
    "    \n",
    "for line in file_data.splitlines()[1:]:\n",
    "    line_dict = json.loads(line)\n",
    "    purchases[line_dict[\"user_id\"]] = line_dict[\"category\"]\n",
    "\n",
    "for i, (key, value) in enumerate(purchases.items()):\n",
    "    if i<2:\n",
    "        print(f\"{key} '{value}'\")"
   ]
  },
  {
   "cell_type": "markdown",
   "id": "7405f2cc-bdc1-4405-845b-87ce94188532",
   "metadata": {},
   "source": [
    "   Задание №2"
   ]
  },
  {
   "cell_type": "code",
   "execution_count": 41,
   "id": "c552ace1-c8fd-42ac-8de6-159e571efc86",
   "metadata": {},
   "outputs": [],
   "source": [
    "import csv\n",
    "\n",
    "with open(file = \"visit_log (2).csv\", newline = \"\") as csvfile:\n",
    "    with open(file = \"funnel.csv\", mode = \"a\") as newcsvfile:\n",
    "        newcsvfile.write(f\"{csvfile.readline().replace(\"\\n\",\"\")},category\\n\")\n",
    "        for row in csvfile:\n",
    "            if purchases.get(row.split(\",\")[0]):\n",
    "                newcsvfile.write(f\"{row.replace(\"\\n\", \"\")},{purchases.get(row.split(\",\")[0])}\\n\")"
   ]
  },
  {
   "cell_type": "code",
   "execution_count": 82,
   "id": "f86754e5-ac6f-4dff-a4c9-e6801387dcfe",
   "metadata": {},
   "outputs": [
    {
     "name": "stdout",
     "output_type": "stream",
     "text": [
      "user_id,source,category\n",
      "1840e0b9d4,other,Продукты\n",
      "4e4f90fcfb,context,Электроника\n"
     ]
    }
   ],
   "source": [
    "with open(file = \"funnel.csv\", mode = \"r\") as newcsvfile_view:\n",
    "     for i, line in enumerate(newcsvfile_view):\n",
    "        if i<3:\n",
    "            print(f\"{line}\".replace(\"\\n\",\"\"))"
   ]
  }
 ],
 "metadata": {
  "kernelspec": {
   "display_name": "Python 3 (ipykernel)",
   "language": "python",
   "name": "python3"
  },
  "language_info": {
   "codemirror_mode": {
    "name": "ipython",
    "version": 3
   },
   "file_extension": ".py",
   "mimetype": "text/x-python",
   "name": "python",
   "nbconvert_exporter": "python",
   "pygments_lexer": "ipython3",
   "version": "3.12.7"
  }
 },
 "nbformat": 4,
 "nbformat_minor": 5
}
