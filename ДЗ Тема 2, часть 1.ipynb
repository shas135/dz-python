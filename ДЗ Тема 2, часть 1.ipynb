{
 "cells": [
  {
   "cell_type": "markdown",
   "id": "609cbaf6-58a8-438a-a306-84e3bb6d4502",
   "metadata": {},
   "source": [
    "        ДЗ Тема 2, часть 1 Управляющие конструкции и коллекции, часть 1"
   ]
  },
  {
   "cell_type": "markdown",
   "id": "797223c4-e46e-4f94-83e2-16a4bb7f7322",
   "metadata": {},
   "source": [
    "    Задание №1"
   ]
  },
  {
   "cell_type": "code",
   "execution_count": 80,
   "id": "d947a18f-ff2f-463a-ae43-a6d0aa3fdc0b",
   "metadata": {},
   "outputs": [],
   "source": [
    "lat_word = \"test\""
   ]
  },
  {
   "cell_type": "code",
   "execution_count": 77,
   "id": "545e19dd-692c-4c39-96f2-045a573de084",
   "metadata": {},
   "outputs": [],
   "source": [
    "lat_word = \"testing\""
   ]
  },
  {
   "cell_type": "code",
   "execution_count": 81,
   "id": "2254f60e-537a-4672-a1e1-de3d86b7572d",
   "metadata": {},
   "outputs": [
    {
     "name": "stdout",
     "output_type": "stream",
     "text": [
      "es\n"
     ]
    }
   ],
   "source": [
    "if len(lat_word) % 2 == 0:\n",
    "    print(lat_word[int(len(lat_word)/2-1):int(len(lat_word)/2+1)])\n",
    "else:\n",
    "    print(lat_word[int(len(lat_word)/2)])"
   ]
  },
  {
   "cell_type": "markdown",
   "id": "3eddbe53-d891-4076-9469-2c7f7c760bfc",
   "metadata": {},
   "source": [
    "    Задание №2"
   ]
  },
  {
   "cell_type": "code",
   "execution_count": 72,
   "id": "8ff17b2b-9597-466a-a88e-e6fba558dffe",
   "metadata": {},
   "outputs": [],
   "source": [
    "boys = ['Peter', 'Alex', 'John', 'Arthur', 'Richard']\n",
    "girls = ['Kate', 'Liza', 'Kira', 'Emma', 'Trisha']"
   ]
  },
  {
   "cell_type": "code",
   "execution_count": 83,
   "id": "9b43a35c-9dea-4875-827d-8b996dd0d004",
   "metadata": {},
   "outputs": [],
   "source": [
    "boys = ['Peter', 'Alex', 'John', 'Arthur', 'Richard', 'Michael']\n",
    "girls = ['Kate', 'Liza', 'Kira', 'Emma', 'Trisha']"
   ]
  },
  {
   "cell_type": "code",
   "execution_count": 84,
   "id": "3a6ac495-8663-4a6d-b000-3ba09d02dd26",
   "metadata": {},
   "outputs": [
    {
     "name": "stdout",
     "output_type": "stream",
     "text": [
      "Результат:\n",
      "Внимание, кто-то может остаться без пары!\n"
     ]
    }
   ],
   "source": [
    "print(\"Результат:\")\n",
    "if len(boys) == len(girls):\n",
    "    new_couples = zip(sorted(boys), sorted(girls))\n",
    "    print(\"Идеальные пары:\")\n",
    "    for couple in list(new_couples):\n",
    "        print(f\"{couple[0]} и {couple[1]}\")\n",
    "else:\n",
    "    print(\"Внимание, кто-то может остаться без пары!\")"
   ]
  }
 ],
 "metadata": {
  "kernelspec": {
   "display_name": "Python 3 (ipykernel)",
   "language": "python",
   "name": "python3"
  },
  "language_info": {
   "codemirror_mode": {
    "name": "ipython",
    "version": 3
   },
   "file_extension": ".py",
   "mimetype": "text/x-python",
   "name": "python",
   "nbconvert_exporter": "python",
   "pygments_lexer": "ipython3",
   "version": "3.12.7"
  }
 },
 "nbformat": 4,
 "nbformat_minor": 5
}
