{
 "cells": [
  {
   "cell_type": "markdown",
   "id": "6b7c0d65-46c3-448f-95cc-da181f3548d8",
   "metadata": {},
   "source": [
    "Домашнее задание по теме 3"
   ]
  },
  {
   "cell_type": "code",
   "execution_count": null,
   "id": "0beaa796-bbd0-42ed-9df6-303ec61fa979",
   "metadata": {},
   "outputs": [],
   "source": [
    "Номер №1"
   ]
  },
  {
   "cell_type": "code",
   "execution_count": 16,
   "id": "6bf10061-3c6b-4c7d-8e0d-44f5cd788d03",
   "metadata": {},
   "outputs": [
    {
     "data": {
      "text/plain": [
       "55"
      ]
     },
     "execution_count": 16,
     "metadata": {},
     "output_type": "execute_result"
    }
   ],
   "source": [
    "first = 10\n",
    "to = 1\n",
    "def sum_distance(first, to):\n",
    "    lowest = min(first,to)\n",
    "    highest = max(first,to)\n",
    "    summa = 0\n",
    "    x = lowest\n",
    "    while (x<=highest):\n",
    "        summa +=x\n",
    "        x += 1\n",
    "    return summa\n",
    "\n",
    "sum_distance(first,to)"
   ]
  },
  {
   "cell_type": "code",
   "execution_count": null,
   "id": "91bfb1dc-4a15-4a15-a0f7-c45094edd504",
   "metadata": {},
   "outputs": [],
   "source": [
    "Номер №2"
   ]
  },
  {
   "cell_type": "code",
   "execution_count": 22,
   "id": "a1a772ce-add4-443b-b4d7-0f3ec8c2dec6",
   "metadata": {},
   "outputs": [
    {
     "data": {
      "text/plain": [
       "'pythonpython'"
      ]
     },
     "execution_count": 22,
     "metadata": {},
     "output_type": "execute_result"
    }
   ],
   "source": [
    "text = \"python\"\n",
    "def trim_and_repeat(text, offset = 0, repetitions = 1):\n",
    "    return text[offset:] * repetitions\n",
    "trim_and_repeat(text, repetitions = 2)"
   ]
  }
 ],
 "metadata": {
  "kernelspec": {
   "display_name": "Python 3 (ipykernel)",
   "language": "python",
   "name": "python3"
  },
  "language_info": {
   "codemirror_mode": {
    "name": "ipython",
    "version": 3
   },
   "file_extension": ".py",
   "mimetype": "text/x-python",
   "name": "python",
   "nbconvert_exporter": "python",
   "pygments_lexer": "ipython3",
   "version": "3.12.7"
  }
 },
 "nbformat": 4,
 "nbformat_minor": 5
}
