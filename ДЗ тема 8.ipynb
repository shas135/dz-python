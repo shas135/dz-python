{
 "cells": [
  {
   "cell_type": "markdown",
   "metadata": {},
   "source": [
    "    Домашнее задание №8"
   ]
  },
  {
   "cell_type": "markdown",
   "metadata": {},
   "source": [
    "Задание №1"
   ]
  },
  {
   "cell_type": "code",
   "execution_count": 31,
   "metadata": {},
   "outputs": [
    {
     "name": "stdout",
     "output_type": "stream",
     "text": [
      "[{'id': 1, 'title': 'Post 1'}, {'id': 2, 'title': 'Post 2'}, {'id': 3, 'title': 'Post 3'}, {'id': 4, 'title': 'Post 4'}, {'id': 5, 'title': 'Post 5'}]\n"
     ]
    }
   ],
   "source": [
    "from requests import post, get\n",
    "from urllib import parse\n",
    "\n",
    "json_response = get(f'https://my-json-server.typicode.com/shas135/dz-python/posts?id<=5')\n",
    "\n",
    "print(json_response.json())"
   ]
  },
  {
   "cell_type": "markdown",
   "metadata": {},
   "source": [
    "Задание №2"
   ]
  },
  {
   "cell_type": "code",
   "execution_count": 77,
   "metadata": {},
   "outputs": [
    {
     "name": "stdout",
     "output_type": "stream",
     "text": [
      "В москва: ясно\n",
      "Температура в москва: -6.73 градуса\n"
     ]
    }
   ],
   "source": [
    "user_city = input()\n",
    "\n",
    "geocode_response = get(f\"http://api.openweathermap.org/geo/1.0/direct?q={user_city}&limit=5&appid=b7d6e4b294d1aff7c90114cbe857f36a\")\n",
    "\n",
    "geo_lat = geocode_response.json()[1][\"lat\"]\n",
    "geo_lon = geocode_response.json()[1][\"lon\"]\n",
    "\n",
    "weather_response = get(f\"https://api.openweathermap.org/data/2.5/weather?lat={geo_lat}&lon={geo_lon}&appid=b7d6e4b294d1aff7c90114cbe857f36a&units=metric&lang=ru\")\n",
    " \n",
    "result_weather_info = weather_response.json()[\"weather\"][0][\"description\"]\n",
    "result_temp_info = weather_response.json()[\"main\"][\"temp\"]\n",
    "print(f\"В {user_city}: {result_weather_info}\")\n",
    "print(f\"Температура в {user_city}: {result_temp_info} градуса\")"
   ]
  }
 ],
 "metadata": {
  "kernelspec": {
   "display_name": "base",
   "language": "python",
   "name": "python3"
  },
  "language_info": {
   "codemirror_mode": {
    "name": "ipython",
    "version": 3
   },
   "file_extension": ".py",
   "mimetype": "text/x-python",
   "name": "python",
   "nbconvert_exporter": "python",
   "pygments_lexer": "ipython3",
   "version": "3.12.7"
  }
 },
 "nbformat": 4,
 "nbformat_minor": 2
}
