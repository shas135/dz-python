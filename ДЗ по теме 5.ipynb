{
 "cells": [
  {
   "cell_type": "markdown",
   "id": "1a0fc8e7-e828-4f1b-bef2-829034bf2566",
   "metadata": {},
   "source": [
    "        Домашнее задание по теме 5"
   ]
  },
  {
   "cell_type": "markdown",
   "id": "ebd403e5-b27e-453f-99bd-98c8ff4796a9",
   "metadata": {},
   "source": [
    "    Номер №1"
   ]
  },
  {
   "cell_type": "code",
   "execution_count": null,
   "id": "c89d9ace-b9f0-4daa-8ea4-5ba2777b5698",
   "metadata": {},
   "outputs": [],
   "source": [
    "\"\"\"\n",
    "Печатные газеты использовали свой формат дат для каждого выпуска. \n",
    "Для каждой газеты из списка напишите формат указанной даты для перевода в объект datetime:\n",
    " The Moscow Times-Wednesday, October 2, 2002\n",
    " The Guardian-Friday, 11.10.13\n",
    " Daily News-Thursday, 18 August 1977\n",
    "\"\"\""
   ]
  },
  {
   "cell_type": "code",
   "execution_count": 2,
   "id": "99d37db3-da8b-4f81-a205-a54041cc6bd0",
   "metadata": {},
   "outputs": [
    {
     "name": "stdout",
     "output_type": "stream",
     "text": [
      "Формат для газеты The Moscow Times- 2002-10-02 00:00:00\n",
      "Формат для газеты The Guardian- 2013-10-11 00:00:00\n",
      "Формат для газеты Daily News- 1977-08-18 00:00:00\n"
     ]
    }
   ],
   "source": [
    "from datetime import datetime\n",
    "\n",
    "TheMoscowTimesDate = 'Wednesday, October 2, 2002'\n",
    "TheGuardianDate = 'Friday, 11.10.13'\n",
    "DailyNewsDate = 'Thursday, 18 August 1977'\n",
    "\n",
    "print(f\"Формат для газеты The Moscow Times- {datetime.strptime(TheMoscowTimesDate, '%A, %B %d, %Y')}\")\n",
    "print(f\"Формат для газеты The Guardian- {datetime.strptime(TheGuardianDate, '%A, %d.%m.%y')}\")\n",
    "print(f\"Формат для газеты Daily News- {datetime.strptime(DailyNewsDate, '%A, %d %B %Y')}\")"
   ]
  },
  {
   "cell_type": "markdown",
   "id": "8ca2d1cb-2798-4e84-8b80-48898070f9f5",
   "metadata": {},
   "source": [
    "    Номер №2"
   ]
  },
  {
   "cell_type": "code",
   "execution_count": null,
   "id": "da059243-8266-4b5b-b513-1720cfd9e27b",
   "metadata": {},
   "outputs": [],
   "source": [
    "\"\"\"\n",
    "Напишите функцию date_range, которая возвращает список дат за период от start_date до end_date.\n",
    "Даты должны вводиться в формате YYYY-MM-DD.В случае неверного формата или при start_date > end_date должен возвращаться пустой список.\n",
    "\"\"\""
   ]
  },
  {
   "cell_type": "code",
   "execution_count": 18,
   "id": "d767d6bc-d895-4499-a378-60e8ff6147aa",
   "metadata": {},
   "outputs": [
    {
     "name": "stdout",
     "output_type": "stream",
     "text": [
      "['2022-01-01', '2022-01-02', '2022-01-03']\n",
      "[]\n",
      "[]\n"
     ]
    }
   ],
   "source": [
    "from datetime import timedelta\n",
    "\n",
    "def date_range(start_date: str, end_date: str) -> list:\n",
    "    date_ranges = []\n",
    "    if start_date < end_date:\n",
    "        try: date = datetime.strptime(start_date, '%Y-%m-%d')\n",
    "        except: return []\n",
    "        while date <= datetime.strptime(end_date, '%Y-%m-%d'):\n",
    "            date_ranges.append(date.strftime('%Y-%m-%d'))\n",
    "            date = date + timedelta(days = 1)\n",
    "    return date_ranges\n",
    "\n",
    "print(date_range('2022-01-01', '2022-01-03'))\n",
    "print(date_range('2022-01-03', '2022-01-01'))\n",
    "print(date_range('2022-02-30', '2022-02-31'))"
   ]
  }
 ],
 "metadata": {
  "kernelspec": {
   "display_name": "Python 3 (ipykernel)",
   "language": "python",
   "name": "python3"
  },
  "language_info": {
   "codemirror_mode": {
    "name": "ipython",
    "version": 3
   },
   "file_extension": ".py",
   "mimetype": "text/x-python",
   "name": "python",
   "nbconvert_exporter": "python",
   "pygments_lexer": "ipython3",
   "version": "3.12.7"
  }
 },
 "nbformat": 4,
 "nbformat_minor": 5
}
